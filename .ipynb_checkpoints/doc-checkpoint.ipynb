{
 "cells": [
  {
   "cell_type": "markdown",
   "metadata": {},
   "source": [
    "# Relatório Intermediário de Iniciação Tecnológica"
   ]
  },
  {
   "cell_type": "markdown",
   "metadata": {},
   "source": []
  },
  {
   "cell_type": "markdown",
   "metadata": {},
   "source": [
    "   O diabetes tipo 1 é uma doença autoimune na qual o sistema imunológico da pessoa ataca de forma equivocada as células betas do pâncreas, sendo essas células responsáveis pela produção do hormônio da insulina. A diminuição da secreção desse hormônio afeta a glicose sanguínea da pessoa por ser responsável pelo metabolismo dos carboidratos.\n",
    "   Uma pessoa pode desenvolver diabetes tipo 1 em qualquer idade, pelo fato de ser uma doença genética. O tratamento é feito através da aplicação de insulina exógena. Dessa forma, a pessoa aplica uma quantidade de insulina relativa ao seu metabolismo, e outras aplicações referentes a sua alimentação, levando em conta quantidade de carboidrato ingeridos.\n",
    "    Hoje as soluções passam por sensores de glicemia contínuos e bombas de insulina que agem de forma independentes. O paciente é o controlador deste sistema, tendo o sensor e o atuador(bomba de insulina) como as ferramentas para tomar sua decisão. Existindo apenas uma bomba no mundo aprovada para ser um controlador do sistema, ou seja, ler a glicemia e decidir quanto de insulina deve-se aplicar, muitas pessoas envolvidas neste meio buscaram uma solução que não depende-se de grandes indústrias farmacêuticas. Assim, nasceram muitos sistemas Open-Source que conseguiram brechas nas tecnológias atuais e fecharam o ciclo. O paciente ainda precisa realizar aplicações relacionadas as refeições mas quando se fala de insulina basal(referente ao metabolismo) o sistema consegue agir sem intervenção humana. A questão que essa iniciação pretende abordar está em um sistema hardware-in-the-loop que possa simular o corpo humano para uma rotina de teste mais eficiente desses softwares.\n",
    "    Dessa forma, como primeiro objetivo do trabalho foi entender como esses sistemas funcionam e qual deles seria interessante de se utilizar nas simulações. São muitas variantes destes sistemas disponíveis. Entre eles existem o OpenAPS, AndroidAPS e o Loop. O precursor de todos, o OpenAPS é o único que roda em uma placa eletrônica, diferente dos outros que rodam no sistema operacional de celulares. Dessa forma foi decidido utilizar o OpenAPS como o sistema Open-Source de controle de diabetes para usufruir do nosso simulador como corpo humano.\n"
   ]
  },
  {
   "cell_type": "markdown",
   "metadata": {},
   "source": [
    "![title](images/openaps.jpg)"
   ]
  },
  {
   "cell_type": "markdown",
   "metadata": {},
   "source": [
    "# Primeiro modelo"
   ]
  },
  {
   "cell_type": "markdown",
   "metadata": {},
   "source": [
    "Para o primeiro modelo, foi encontrado um simulador de diabetes tipo 1 chamado GlucoDyn. O objetivo dele é ajudar pessoas recentemente diagnosticadas a entender melhor o funcionamento da glicemia junto com alimentação e aplicação de insulina."
   ]
  },
  {
   "attachments": {},
   "cell_type": "markdown",
   "metadata": {},
   "source": [
    "![title](images/glucodyn.png)"
   ]
  },
  {
   "cell_type": "markdown",
   "metadata": {},
   "source": [
    "Para começar nosso modelo, foi realizada uma adaptação do modelo do GlucoDyn para Python com o objetivo de conseguir trabalhar melhor com as simulações, porém podendo usar o próprio GlucoDyn como validação.\n",
    "O software trabalha em loop, onde os itens de um lista se tratam de cada momento no futuro. Dessa forma ingerir um alimento ou aplicar uma dose de insulina possuem seus efeitos ao longo do tempo afetando cada momento futuro de uma forma diferente."
   ]
  },
  {
   "cell_type": "markdown",
   "metadata": {},
   "source": [
    "## Funções implementadas no modelo"
   ]
  },
  {
   "cell_type": "markdown",
   "metadata": {},
   "source": [
    "### Funções bases"
   ]
  },
  {
   "cell_type": "markdown",
   "metadata": {},
   "source": [
    "A função IOB trata do termo Insulin on board. Dessa forma, ela é responsável por calcular a quantidade de insulina ativa no paciente baseando-se no tempo que a aplicação ocorreu e o tipo de insulina que foi utilizada. O tipo de insulina é referente ao tempo de ação da insulina, que é descrito pelas curvas do modelo de Walsh de insulina. (falta falar qual é o retorno da função)"
   ]
  },
  {
   "cell_type": "code",
   "execution_count": null,
   "metadata": {},
   "outputs": [],
   "source": [
    "def IOB(bolustime,insulindur):\n",
    "    if(bolustime<=0.0):\n",
    "        tot=100.0\n",
    "    elif (bolustime>=insulindur*60.0):\n",
    "        tot=0.0\n",
    "    else:\n",
    "        if(insulindur==3):\n",
    "            tot=-3.203e-7*math.pow(bolustime,4)+1.354e-4*math.pow(bolustime,3)-1.759e-2*math.pow(bolustime,2)+9.255e-2*bolustime+99.951\n",
    "        elif (insulindur==4):\n",
    "            tot=-3.31e-8*math.pow(bolustime,4)+2.53e-5*math.pow(bolustime,3)-5.51e-3*math.pow(bolustime,2)-9.086e-2*bolustime+99.95\n",
    "        elif (insulindur==5):\n",
    "            tot=-2.95e-8*math.pow(bolustime,4)+2.32e-5*math.pow(bolustime,3)-5.55e-3*math.pow(bolustime,2)+4.49e-2*bolustime+99.3\n",
    "        elif (insulindur==6):\n",
    "            tot=-1.493e-8*math.pow(bolustime,4)+1.413e-5*math.pow(bolustime,3)-4.095e-3*math.pow(bolustime,2)+6.365e-2*bolustime+99.7\n",
    "    return tot"
   ]
  },
  {
   "cell_type": "markdown",
   "metadata": {},
   "source": [
    "A função intIOB trata da integração da quantidade de insulina ativa no paciente. Esse é um cálculo estretamente necessário quando se fala de uma alteração da insulina basal do paciente. Diferente do IOB que trata de uma aplicação de insulina momentânea do paciente, o intIOB irá se referir a um aumento ou diminuição da taxa de insulina basal padrão daquele paciente. Dessa forma é necessário integrar está taxa para encontrar a real quantidade de insulina a mais ou a menos que foi aplicada e poder entender como isso afetará os momentos futuros. A integral é realizada a partir do teorema de Simpson."
   ]
  },
  {
   "cell_type": "code",
   "execution_count": null,
   "metadata": {},
   "outputs": [],
   "source": [
    "def intIOB(x1,x2,insulindur,bolustime):\n",
    "\n",
    "    nn=50\n",
    "    ii=1\n",
    "\n",
    "    \n",
    "    dx=(x2-x1)/nn\n",
    "    intebolustimeral=IOB((bolustime-x1),insulindur)+IOB(bolustime-(x1+nn*dx),insulindur)\n",
    "    integral=0\n",
    "    while(ii<nn-2):\n",
    "        integral = integral + 4*IOB(bolustime-(x1+ii*dx),insulindur)+2*IOB(bolustime-(x1+(ii+1)*dx),insulindur)\n",
    "        ii=ii+2\n",
    "\n",
    "    integral=integral*dx/3.0\n",
    "    return(integral)"
   ]
  },
  {
   "cell_type": "markdown",
   "metadata": {},
   "source": [
    "Na última função base do modelo temos o COB(carbs on board), que trata da quantidade de carboidrato ainda não metabolizado(conferir se é isso mesmo) no organismo do paciente. Assim como a função IOB, é necessário saber a quanto tempo foi ingerido esse carboidrato e o tempo de absorção deste tipo, que varia de alimento pra alimento."
   ]
  },
  {
   "cell_type": "code",
   "execution_count": null,
   "metadata": {},
   "outputs": [],
   "source": [
    "def cob(bolustime,carbtype):\n",
    "\n",
    "    if(bolustime<=0):\n",
    "        tot=0.0\n",
    "    elif (bolustime>=carbtype):\n",
    "        tot=1.0\n",
    "    elif ((bolustime>0) and (bolustime<=carbtype/2.0)):\n",
    "        tot=2.0/math.pow(carbtype,2)*math.pow(bolustime,2)\n",
    "    else:\n",
    "        tot=-1.0+4.0/carbtype*(bolustime-math.pow(bolustime,2)/(2.0*carbtype))\n",
    "    return(tot)"
   ]
  },
  {
   "cell_type": "markdown",
   "metadata": {},
   "source": [
    "### Funções delta"
   ]
  },
  {
   "cell_type": "markdown",
   "metadata": {},
   "source": [
    "As funções delta se referem a influência dos fatores tratados nas funções bases diretamente na glicemia do paciente. O objetivo delas é juntar os atributos individuais do paciente junto com os valores temporários tratados nas funções bases para poder chegar a um valor de glicemia em cada instante, sendo isso visível em gráficos."
   ]
  },
  {
   "cell_type": "markdown",
   "metadata": {},
   "source": [
    "A função deltaBGC cálcula o efeito do carboidrato ingerido na glicemia do paciente, levando em conta os valores da COB e também a sensibilidade a insulina e a proporção carboidrato/insulina do paciente."
   ]
  },
  {
   "cell_type": "code",
   "execution_count": null,
   "metadata": {},
   "outputs": [],
   "source": [
    "def deltaBGC(bolustime,sensf,carbratio,carbamount,carbtype):\n",
    "    return sensf/carbratio*carbamount*cob(bolustime,carbtype)\n"
   ]
  },
  {
   "cell_type": "markdown",
   "metadata": {},
   "source": [
    "A função deltaBGI cálcula o efeito da insulina aplicada na glicemia do paciente, levando em conta os valores da IOB e também a sensibilidade a insulina do paciente."
   ]
  },
  {
   "cell_type": "code",
   "execution_count": null,
   "metadata": {},
   "outputs": [],
   "source": [
    "def deltaBGI(bolustime,bolus,sensf,insulindur):\n",
    "    return -bolus*sensf*(1-IOB(bolustime,insulindur)/100.0)"
   ]
  },
  {
   "cell_type": "markdown",
   "metadata": {},
   "source": [
    "A função dealtatempBGI se utiliza da função base intIOB para cálcular o efeito do basal temporário da glicemia do paciente, levando em conta os mesmos fatores do deltaBGI mais a taxa basal padrão do paciente naquele momento."
   ]
  },
  {
   "cell_type": "code",
   "execution_count": null,
   "metadata": {},
   "outputs": [],
   "source": [
    "def deltatempBGI(bolustime,dbdt,sensf,insulindur,t1,t2):\n",
    "    return -dbdt*sensf*((t2-t1)-1/100*intIOB(t1,t2,insulindur,bolustime))"
   ]
  },
  {
   "cell_type": "markdown",
   "metadata": {},
   "source": [
    "## Demonstrações do modelo"
   ]
  },
  {
   "cell_type": "markdown",
   "metadata": {},
   "source": [
    "Para demonstração foi necessário definir alguns parâmetros. A sensibilidade de insulina do paciente é 50 mg/dL e a proporção carboidrato insulina é 20g/U. O tempo de simulação foi de 3600 segundos, ou seja, 1 hora. O dt é o qual o valor de tempo de cada momento. Logo sendo dt = 0.1, em 3600 segundos teremos 36000 momentos no gráfico, equivalente a variável n. Também foi colocado o valor inicial de glicemia em 100 mg/dL. "
   ]
  },
  {
   "cell_type": "code",
   "execution_count": 4,
   "metadata": {},
   "outputs": [],
   "source": [
    "from funcs import *\n",
    "import matplotlib.pyplot as plt\n",
    "import numpy as np\n",
    "sens = 50\n",
    "carbratio = 20\n",
    "simlengthseg = 3600\n",
    "dt = 0.1\n",
    "n = simlengthseg / dt\n",
    "temp = np.arange(0,simlengthseg,dt)\n",
    "\n",
    "initialBG = 100\n",
    "simbg = [initialBG]*int(n)\n",
    "G = [0.0]*int(n)"
   ]
  },
  {
   "cell_type": "markdown",
   "metadata": {},
   "source": [
    "### Simulação Carboidrato"
   ]
  },
  {
   "cell_type": "code",
   "execution_count": 7,
   "metadata": {},
   "outputs": [
    {
     "data": {
      "text/plain": [
       "[<matplotlib.lines.Line2D at 0x11e48eb70>]"
      ]
     },
     "execution_count": 7,
     "metadata": {},
     "output_type": "execute_result"
    },
    {
     "data": {
      "image/png": "[encoded data removed]",
      "text/plain": [
       "<Figure size 432x288 with 1 Axes>"
      ]
     },
     "metadata": {
      "needs_background": "light"
     },
     "output_type": "display_data"
    }
   ],
   "source": [
    "AT=int(240/dt)\n",
    "for t in range (0, AT):\n",
    "    G[t] = deltaBGC(t, sens, carbratio, 30, int(90/dt) ) + simbg[t]\n",
    "plt.plot(temp[0:AT],G[0:AT])"
   ]
  },
  {
   "cell_type": "markdown",
   "metadata": {},
   "source": [
    "### Simulação Carboidrato + Insulina"
   ]
  },
  {
   "cell_type": "code",
   "execution_count": 10,
   "metadata": {},
   "outputs": [
    {
     "data": {
      "text/plain": [
       "[<matplotlib.lines.Line2D at 0x11e704390>]"
      ]
     },
     "execution_count": 10,
     "metadata": {},
     "output_type": "execute_result"
    },
    {
     "data": {
      "image/png": "[encoded data removed]",
      "text/plain": [
       "<Figure size 432x288 with 1 Axes>"
      ]
     },
     "metadata": {
      "needs_background": "light"
     },
     "output_type": "display_data"
    }
   ],
   "source": [
    "AT=int(240/dt)\n",
    "for t in range (0, AT):\n",
    "    G[t] = deltaBGC(t, sens, carbratio, 30, int(90/dt) ) + deltaBGI(t*dt, 2, sens, 3) + simbg[t]\n",
    "plt.plot(temp[0:AT],G[0:AT])    "
   ]
  },
  {
   "cell_type": "markdown",
   "metadata": {},
   "source": [
    "### Simulação Carboidrato + Basal Temporário"
   ]
  },
  {
   "cell_type": "code",
   "execution_count": 9,
   "metadata": {},
   "outputs": [
    {
     "data": {
      "text/plain": [
       "[<matplotlib.lines.Line2D at 0x11e5ef0b8>]"
      ]
     },
     "execution_count": 9,
     "metadata": {},
     "output_type": "execute_result"
    },
    {
     "data": {
      "image/png": "[encoded data removed]",
      "text/plain": [
       "<Figure size 432x288 with 1 Axes>"
      ]
     },
     "metadata": {
      "needs_background": "light"
     },
     "output_type": "display_data"
    }
   ],
   "source": [
    "AT=int(240/dt)\n",
    "for t in range (0, AT):\n",
    "    G[t] = deltaBGC(t, sens, carbratio, 30, int(90/dt) ) + deltatempBGI(t*dt,0.03,sens,3,0,30) + simbg[t]\n",
    "plt.plot(temp[0:AT],G[0:AT])    "
   ]
  }
 ],
 "metadata": {
  "kernelspec": {
   "display_name": "Python 3",
   "language": "python",
   "name": "python3"
  },
  "language_info": {
   "codemirror_mode": {
    "name": "ipython",
    "version": 3
   },
   "file_extension": ".py",
   "mimetype": "text/x-python",
   "name": "python",
   "nbconvert_exporter": "python",
   "pygments_lexer": "ipython3",
   "version": "3.7.3"
  }
 },
 "nbformat": 4,
 "nbformat_minor": 2
}
